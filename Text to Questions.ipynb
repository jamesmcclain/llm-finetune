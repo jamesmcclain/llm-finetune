{
 "cells": [
  {
   "cell_type": "code",
   "execution_count": null,
   "id": "33f6621a-037a-45ab-acda-c95ee7ba36c7",
   "metadata": {},
   "outputs": [],
   "source": [
    "import torch\n",
    "\n",
    "from transformers import AutoModelForCausalLM, AutoTokenizer, BitsAndBytesConfig, AutoTokenizer"
   ]
  },
  {
   "cell_type": "code",
   "execution_count": null,
   "id": "ffbe9485-84c0-40a2-b39a-df8a3917fef6",
   "metadata": {},
   "outputs": [],
   "source": [
    "# model_name = \"/models/models--microsoft--phi-2/snapshots/85d00b03fee509307549d823fdd095473ba5197c\"\n",
    "# model_name = \"/models/models--TomGrc--FusionNet_SOLAR/snapshots/3757984c0edebf4300a67cf33b9cca53524a057d\"\n",
    "model_name = \"/models/models--NousResearch--Llama-2-13b-chat-hf/snapshots/aad3c0b2315a458d54cd9b09ddc51cf06021196f\"\n",
    "\n",
    "bnb_config = BitsAndBytesConfig(\n",
    "    load_in_4bit=True,\n",
    "    bnb_4bit_quant_type=\"nf4\",\n",
    "    bnb_4bit_use_double_quant=True,\n",
    "    bnb_4bit_compute_dtype=torch.bfloat16,\n",
    "    load_in_8bit_fp32_cpu_offload=True,\n",
    ")\n",
    "\n",
    "if False:\n",
    "    model = AutoModelForCausalLM.from_pretrained(\n",
    "        model_name,\n",
    "        device_map=\"cuda\",\n",
    "        trust_remote_code=True\n",
    "    )\n",
    "else:\n",
    "    model = AutoModelForCausalLM.from_pretrained(\n",
    "        model_name,\n",
    "        quantization_config=BitsAndBytesConfig(\n",
    "            load_in_4bit=True,\n",
    "            bnb_4bit_quant_type=\"nf4\",\n",
    "            bnb_4bit_use_double_quant=True,\n",
    "            bnb_4bit_compute_dtype=torch.bfloat16,\n",
    "        ),\n",
    "        device_map=\"auto\",\n",
    "        trust_remote_code=True\n",
    "    )\n",
    "    "
   ]
  },
  {
   "cell_type": "code",
   "execution_count": null,
   "id": "173fa640-881f-437c-bcf2-18ff0bc9a1dc",
   "metadata": {},
   "outputs": [],
   "source": [
    "tokenizer = AutoTokenizer.from_pretrained(model_name, trust_remote_code=True)"
   ]
  },
  {
   "cell_type": "code",
   "execution_count": null,
   "id": "2f849ac4-3dd3-4024-9081-83586e891f89",
   "metadata": {},
   "outputs": [],
   "source": [
    "inputs = tokenizer('''Instruction: Turn the block of text below into a series of question/answer pairs, preserving as much of the text as possible.  The questions should elecit questions whose answers are quotations from the text.  The answers should not contain quotation marks.\n",
    "\n",
    "\"\"\"\n",
    "{text}\n",
    "\"\"\"\n",
    "\n",
    "Question: ''', return_tensors=\"pt\", return_attention_mask=False)\n",
    "\n",
    "outputs = model.generate(inputs.get(\"input_ids\").to(model.device), max_length=1024)\n",
    "text = tokenizer.batch_decode(outputs)[0]\n",
    "print(text)"
   ]
  },
  {
   "cell_type": "code",
   "execution_count": null,
   "id": "048426a2-4b5f-4874-855f-20c99c935506",
   "metadata": {},
   "outputs": [],
   "source": []
  }
 ],
 "metadata": {
  "kernelspec": {
   "display_name": "Python 3 (ipykernel)",
   "language": "python",
   "name": "python3"
  },
  "language_info": {
   "codemirror_mode": {
    "name": "ipython",
    "version": 3
   },
   "file_extension": ".py",
   "mimetype": "text/x-python",
   "name": "python",
   "nbconvert_exporter": "python",
   "pygments_lexer": "ipython3",
   "version": "3.10.11"
  }
 },
 "nbformat": 4,
 "nbformat_minor": 5
}
